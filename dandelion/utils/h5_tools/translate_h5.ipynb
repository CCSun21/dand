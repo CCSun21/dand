{
 "cells": [
  {
   "cell_type": "code",
   "execution_count": 3,
   "metadata": {},
   "outputs": [
    {
     "ename": "FileNotFoundError",
     "evalue": "[Errno 2] No such file or directory: 'input.xyz'",
     "output_type": "error",
     "traceback": [
      "\u001b[0;31m---------------------------------------------------------------------------\u001b[0m",
      "\u001b[0;31mFileNotFoundError\u001b[0m                         Traceback (most recent call last)",
      "\u001b[1;32m/home/mhyeok/pj23/Dandelion/dandelion/utils/translate_h5.ipynb Cell 1\u001b[0m line \u001b[0;36m2\n\u001b[1;32m     <a href='vscode-notebook-cell://ssh-remote%2B7b22686f73744e616d65223a22426572796c6c69756d227d/home/mhyeok/pj23/Dandelion/dandelion/utils/translate_h5.ipynb#W0sdnNjb2RlLXJlbW90ZQ%3D%3D?line=20'>21</a>\u001b[0m         write(\u001b[39mf\u001b[39m\u001b[39m'\u001b[39m\u001b[39m{\u001b[39;00moutput_prefix\u001b[39m}\u001b[39;00m\u001b[39m_\u001b[39m\u001b[39m{\u001b[39;00mstep\u001b[39m:\u001b[39;00m\u001b[39m04d\u001b[39m\u001b[39m}\u001b[39;00m\u001b[39m.xyz\u001b[39m\u001b[39m'\u001b[39m, atoms)\n\u001b[1;32m     <a href='vscode-notebook-cell://ssh-remote%2B7b22686f73744e616d65223a22426572796c6c69756d227d/home/mhyeok/pj23/Dandelion/dandelion/utils/translate_h5.ipynb#W0sdnNjb2RlLXJlbW90ZQ%3D%3D?line=22'>23</a>\u001b[0m \u001b[39mif\u001b[39;00m \u001b[39m__name__\u001b[39m \u001b[39m==\u001b[39m \u001b[39m\"\u001b[39m\u001b[39m__main__\u001b[39m\u001b[39m\"\u001b[39m:\n\u001b[0;32m---> <a href='vscode-notebook-cell://ssh-remote%2B7b22686f73744e616d65223a22426572796c6c69756d227d/home/mhyeok/pj23/Dandelion/dandelion/utils/translate_h5.ipynb#W0sdnNjb2RlLXJlbW90ZQ%3D%3D?line=23'>24</a>\u001b[0m     atoms \u001b[39m=\u001b[39m read(\u001b[39m'\u001b[39;49m\u001b[39minput.xyz\u001b[39;49m\u001b[39m'\u001b[39;49m)  \u001b[39m# Read the initial configuration\u001b[39;00m\n\u001b[1;32m     <a href='vscode-notebook-cell://ssh-remote%2B7b22686f73744e616d65223a22426572796c6c69756d227d/home/mhyeok/pj23/Dandelion/dandelion/utils/translate_h5.ipynb#W0sdnNjb2RlLXJlbW90ZQ%3D%3D?line=24'>25</a>\u001b[0m     dt \u001b[39m=\u001b[39m \u001b[39m0.01\u001b[39m\n\u001b[1;32m     <a href='vscode-notebook-cell://ssh-remote%2B7b22686f73744e616d65223a22426572796c6c69756d227d/home/mhyeok/pj23/Dandelion/dandelion/utils/translate_h5.ipynb#W0sdnNjb2RlLXJlbW90ZQ%3D%3D?line=25'>26</a>\u001b[0m     steps \u001b[39m=\u001b[39m \u001b[39m100\u001b[39m\n",
      "File \u001b[0;32m~/miniconda3/envs/ts/lib/python3.11/site-packages/ase/io/formats.py:729\u001b[0m, in \u001b[0;36mread\u001b[0;34m(filename, index, format, parallel, do_not_split_by_at_sign, **kwargs)\u001b[0m\n\u001b[1;32m    727\u001b[0m \u001b[39mif\u001b[39;00m index \u001b[39mis\u001b[39;00m \u001b[39mNone\u001b[39;00m:\n\u001b[1;32m    728\u001b[0m     index \u001b[39m=\u001b[39m \u001b[39m-\u001b[39m\u001b[39m1\u001b[39m\n\u001b[0;32m--> 729\u001b[0m \u001b[39mformat\u001b[39m \u001b[39m=\u001b[39m \u001b[39mformat\u001b[39m \u001b[39mor\u001b[39;00m filetype(filename, read\u001b[39m=\u001b[39;49m\u001b[39misinstance\u001b[39;49m(filename, \u001b[39mstr\u001b[39;49m))\n\u001b[1;32m    731\u001b[0m io \u001b[39m=\u001b[39m get_ioformat(\u001b[39mformat\u001b[39m)\n\u001b[1;32m    732\u001b[0m \u001b[39mif\u001b[39;00m \u001b[39misinstance\u001b[39m(index, (\u001b[39mslice\u001b[39m, \u001b[39mstr\u001b[39m)):\n",
      "File \u001b[0;32m~/miniconda3/envs/ts/lib/python3.11/site-packages/ase/io/formats.py:920\u001b[0m, in \u001b[0;36mfiletype\u001b[0;34m(filename, read, guess)\u001b[0m\n\u001b[1;32m    917\u001b[0m     \u001b[39mreturn\u001b[39;00m ext\n\u001b[1;32m    919\u001b[0m \u001b[39mif\u001b[39;00m orig_filename \u001b[39m==\u001b[39m filename:\n\u001b[0;32m--> 920\u001b[0m     fd \u001b[39m=\u001b[39m open_with_compression(filename, \u001b[39m'\u001b[39;49m\u001b[39mrb\u001b[39;49m\u001b[39m'\u001b[39;49m)\n\u001b[1;32m    921\u001b[0m \u001b[39melse\u001b[39;00m:\n\u001b[1;32m    922\u001b[0m     fd \u001b[39m=\u001b[39m orig_filename  \u001b[39m# type: ignore\u001b[39;00m\n",
      "File \u001b[0;32m~/miniconda3/envs/ts/lib/python3.11/site-packages/ase/io/formats.py:551\u001b[0m, in \u001b[0;36mopen_with_compression\u001b[0;34m(filename, mode)\u001b[0m\n\u001b[1;32m    548\u001b[0m     \u001b[39mreturn\u001b[39;00m lzma\u001b[39m.\u001b[39mopen(filename, mode)\n\u001b[1;32m    549\u001b[0m \u001b[39melse\u001b[39;00m:\n\u001b[1;32m    550\u001b[0m     \u001b[39m# Either None or unknown string\u001b[39;00m\n\u001b[0;32m--> 551\u001b[0m     \u001b[39mreturn\u001b[39;00m \u001b[39mopen\u001b[39;49m(filename, mode)\n",
      "\u001b[0;31mFileNotFoundError\u001b[0m: [Errno 2] No such file or directory: 'input.xyz'"
     ]
    }
   ],
   "source": [
    "import numpy as np\n",
    "from ase import Atoms\n",
    "from ase.io import read, write\n",
    "from xtb.ase.calculator import XTB\n",
    "\n",
    "def get_forces(atoms):\n",
    "    atoms.calc = XTB(method=\"GFN2-xTB\")\n",
    "    return atoms.get_forces()\n",
    "\n",
    "def integrate(atoms, dt):\n",
    "    velocities = atoms.get_velocities() + atoms.get_forces() / atoms.get_masses().reshape(-1, 1) * dt\n",
    "    positions = atoms.get_positions() + velocities * dt\n",
    "    \n",
    "    atoms.set_positions(positions)\n",
    "    atoms.set_velocities(velocities)\n",
    "\n",
    "def simulate(atoms, dt, steps, output_prefix=\"trajectory\"):\n",
    "    for step in range(steps):\n",
    "        forces = get_forces(atoms)\n",
    "        integrate(atoms, dt)\n",
    "        write(f'{output_prefix}_{step:04d}.xyz', atoms)\n",
    "\n",
    "if __name__ == \"__main__\":\n",
    "    atoms = read('input.xyz')  # Read the initial configuration\n",
    "    dt = 0.01\n",
    "    steps = 100\n",
    "    simulate(atoms, dt, steps)\n"
   ]
  }
 ],
 "metadata": {
  "kernelspec": {
   "display_name": "ts",
   "language": "python",
   "name": "python3"
  },
  "language_info": {
   "codemirror_mode": {
    "name": "ipython",
    "version": 3
   },
   "file_extension": ".py",
   "mimetype": "text/x-python",
   "name": "python",
   "nbconvert_exporter": "python",
   "pygments_lexer": "ipython3",
   "version": "3.11.5"
  },
  "orig_nbformat": 4
 },
 "nbformat": 4,
 "nbformat_minor": 2
}
