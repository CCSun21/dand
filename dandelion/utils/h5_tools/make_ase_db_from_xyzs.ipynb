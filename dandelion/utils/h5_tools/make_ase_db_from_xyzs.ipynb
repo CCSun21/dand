{
 "cells": [
  {
   "cell_type": "code",
   "execution_count": 1,
   "metadata": {},
   "outputs": [
    {
     "name": "stdout",
     "output_type": "stream",
     "text": [
      "All .xyz files from /home/mhyeok/567F_noneq and its subdirectories have been added to the database 567F_noneq.db.\n"
     ]
    }
   ],
   "source": [
    "import os\n",
    "from ase import io\n",
    "from ase.db import connect\n",
    "import glob\n",
    "\n",
    "# Specify the directory where your .xyz files are located\n",
    "xyz_files_directory = '/home/mhyeok/567F_noneq'  # Change this to the path of your xyz files\n",
    "# Specify the name of the database you want to create\n",
    "database_name = '567F_noneq.db'  # This will be the name of your new database\n",
    "\n",
    "# Connect to a new ASE database (it will be created if it doesn't exist)\n",
    "with connect(database_name) as db:\n",
    "    # Use glob.glob to find all .xyz files in the directory and subdirectories\n",
    "    for file_path in glob.glob(os.path.join(xyz_files_directory, '**/*.xyz'), recursive=True):\n",
    "        # Read the .xyz file to get an Atoms object\n",
    "        atoms = io.read(file_path)\n",
    "        # Add the Atoms object to the database\n",
    "        db.write(atoms)\n",
    "\n",
    "print(f\"All .xyz files from {xyz_files_directory} and its subdirectories have been added to the database {database_name}.\")\n"
   ]
  }
 ],
 "metadata": {
  "kernelspec": {
   "display_name": "ts",
   "language": "python",
   "name": "python3"
  },
  "language_info": {
   "codemirror_mode": {
    "name": "ipython",
    "version": 3
   },
   "file_extension": ".py",
   "mimetype": "text/x-python",
   "name": "python",
   "nbconvert_exporter": "python",
   "pygments_lexer": "ipython3",
   "version": "3.10.9"
  }
 },
 "nbformat": 4,
 "nbformat_minor": 2
}
